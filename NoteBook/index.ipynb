{
 "cells": [
  {
   "cell_type": "markdown",
   "metadata": {},
   "source": [
    "# Welcome to the **GBM Data Tools**\n",
    "\n",
    "Below is a list of tutorials that cover some of the most important aspects of the GBM Data Tools.  Divided into two sections, the \"Primary\" tutorials cover high-level aspects and \"Deeper Dives\" explore the more detailed and fine-grained controls.\n",
    "\n",
    "---\n",
    "## Primary Tutorials\n",
    "\n",
    "### [GBM Science Data: Time History Spectra](./PhaiiData.ipynb)\n",
    "### [TTE Data](./TteData.ipynb)\n",
    "### [Detector Response Files](./Responses.ipynb)\n",
    "### [Position History Data](./PositionHistory.ipynb)\n",
    "### [Quicklook Trigger Data](./Trigdat.ipynb)\n",
    "### [GBM Localizations and Sky Maps](./Skymaps.ipynb)\n",
    "### [Finding GBM Data](./DataFinders.ipynb)\n",
    "### [Analysis Workflow: Reduction and Export](./PhaExport.ipynb)\n",
    "### [Analysis Workflow: Spectral Fitting](./SpectralFitting.ipynb)\n",
    "### [Spectral Catalog Files](./ScatFiles.ipynb)\n",
    "### [Simulations](./Simulations.ipynb)\n",
    "\n",
    "---\n",
    "## Deeper Dives\n",
    "\n",
    "### [Introduction to the Data Primitives](./DataPrimitives.ipynb)\n",
    "### [Plugin-like Architecture](./Plugins.ipynb)\n",
    "### [Visualizations](./Visualizations.ipynb)"
   ]
  }
 ],
 "metadata": {
  "kernelspec": {
   "display_name": "Python 3",
   "language": "python",
   "name": "python3"
  },
  "language_info": {
   "codemirror_mode": {
    "name": "ipython",
    "version": 3
   },
   "file_extension": ".py",
   "mimetype": "text/x-python",
   "name": "python",
   "nbconvert_exporter": "python",
   "pygments_lexer": "ipython3",
   "version": "3.7.9"
  }
 },
 "nbformat": 4,
 "nbformat_minor": 2
}
